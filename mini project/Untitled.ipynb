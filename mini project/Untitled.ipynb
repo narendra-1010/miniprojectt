{
 "cells": [
  {
   "cell_type": "code",
   "execution_count": 4,
   "id": "8adb7bbd",
   "metadata": {},
   "outputs": [],
   "source": [
    "from tkinter import *\n",
    "from PIL import Image,ImageTk\n",
    "import StartingFile\n",
    "root = Tk()\n",
    "\n",
    "# Adjust size\n",
    "root.geometry(\"1640x830\")\n",
    "\n",
    "# Add image file\n",
    "#bg = PhotoImage(file = \"bull.png\")\n",
    "\n",
    "# Create Canvas\n",
    "canvas1 = Canvas( root, width = 1640,\n",
    "\t\t\t\theight = 830)\n",
    "\n",
    "canvas1.pack(fill = \"both\", expand = True)\n",
    "\n",
    "img= (Image.open(\"bull.jpg\"))\n",
    "\n",
    "#Resize the Image using resize method\n",
    "resized_image= img.resize((1640,830), Image.ANTIALIAS)\n",
    "new_image= ImageTk.PhotoImage(resized_image)\n",
    "\n",
    "\n",
    "\n",
    "# Display image\n",
    "canvas1.create_image( 0, 0, image = new_image,\n",
    "\t\t\t\t\tanchor = \"nw\")\n",
    "\n",
    "\n",
    "def st():\n",
    "    root.destroy()\n",
    "    firster = StartingFile.start()\n",
    "    \n",
    "# Create Buttons\n",
    "l=label=Label(root,text=\"Stock Market Forecast Application\",font= ('Helvetica 30'))\n",
    "button1 = Button( root,text= \"Sectors\", font= ('Helvetica 30'),command=st)\n",
    "button2 = Button( root, text= \"WATCH-LIST\", font= ('Helvetica 30'))\n",
    "\n",
    "# Display Buttons\n",
    "button1_canvas = canvas1.create_window( 300, 400,\n",
    "\t\t\t\t\t\t\t\t\tanchor = \"center\",\n",
    "\t\t\t\t\t\t\t\t\twindow = button1)\n",
    "\n",
    "button2_canvas = canvas1.create_window( 800, 400,\n",
    "\t\t\t\t\t\t\t\t\tanchor = \"center\",\n",
    "                                        window = button2)\n",
    "l_canvas=canvas1.create_window(700,0,anchor='n',window=l)\n",
    "\n",
    "\n",
    "# Execute tkinter\n",
    "root.mainloop()"
   ]
  },
  {
   "cell_type": "code",
   "execution_count": null,
   "id": "913c75ab",
   "metadata": {},
   "outputs": [],
   "source": []
  }
 ],
 "metadata": {
  "kernelspec": {
   "display_name": "Python 3 (ipykernel)",
   "language": "python",
   "name": "python3"
  },
  "language_info": {
   "codemirror_mode": {
    "name": "ipython",
    "version": 3
   },
   "file_extension": ".py",
   "mimetype": "text/x-python",
   "name": "python",
   "nbconvert_exporter": "python",
   "pygments_lexer": "ipython3",
   "version": "3.9.7"
  }
 },
 "nbformat": 4,
 "nbformat_minor": 5
}
